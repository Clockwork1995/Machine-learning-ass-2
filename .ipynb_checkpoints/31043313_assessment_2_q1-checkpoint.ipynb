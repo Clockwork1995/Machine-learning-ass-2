{
 "cells": [
  {
   "cell_type": "markdown",
   "metadata": {},
   "source": [
    "# Part A. Document Clustering"
   ]
  },
  {
   "cell_type": "markdown",
   "metadata": {},
   "source": [
    "# Question 1 [EM for Document Clustering, 40 Marks]"
   ]
  },
  {
   "cell_type": "markdown",
   "metadata": {},
   "source": [
    "1. Derive Expectation and Maximization steps of the hard-EM algorithm for Document Clustering, show your work in your submitted PDF report. In particular, include all model parameters that should be learnt and the exact expression (using the same math convention that we saw in the Module 4) that should be used to update these parameters during the learning process (ie., E step, M step and assignments)."
   ]
  },
  {
   "cell_type": "code",
   "execution_count": 2,
   "metadata": {},
   "outputs": [
    {
     "name": "stderr",
     "output_type": "stream",
     "text": [
      "Warning message:\n",
      "\"package 'tm' was built under R version 4.0.5\"\n",
      "Loading required package: NLP\n",
      "\n",
      "Warning message:\n",
      "\"package 'NLP' was built under R version 4.0.3\"\n",
      "Warning message:\n",
      "\"package 'SnowballC' was built under R version 4.0.3\"\n"
     ]
    }
   ],
   "source": [
    "# loading required libraries\n",
    "library('tm')\n",
    "library('SnowballC')"
   ]
  },
  {
   "cell_type": "markdown",
   "metadata": {},
   "source": [
    "2. Implement the hard-EM (you derived above) and soft-EM (derived in Chapter 5 of Module 4). Please provide enough comments in your submitted code."
   ]
  },
  {
   "cell_type": "code",
   "execution_count": 3,
   "metadata": {},
   "outputs": [],
   "source": [
    "# initialization function\n",
    "initialize_func <- function(vocab_size, K=4, seed=0) {\n",
    "    # Initializing clusters with the same probability ratio\n",
    "    rho = matrix(1/K, nrow = K, ncol=1) \n",
    "    # Generating  and initializing the parameter matrix mu\n",
    "    mu = matrix(runif(K * vocab_size),nrow=K, ncol=vocab_size)\n",
    "    # normalize to 1\n",
    "    mu = prop.table(mu, margin=1)               \n",
    "    return (list(\"rho\" = rho, \"mu\"= mu))\n",
    "}"
   ]
  },
  {
   "cell_type": "code",
   "execution_count": 4,
   "metadata": {},
   "outputs": [],
   "source": [
    "# helper function\n",
    "logSum <- function(v) {\n",
    "    m = max(v)\n",
    "    return ( m + log(sum(exp(v-m))))\n",
    "}\n",
    "\n",
    "\n",
    "# the training objective function\n",
    "train.objective <- function(model, counts) { \n",
    "  N = dim(counts)[2] # N documents\n",
    "  K = dim(model$mu)[1] # K clusters\n",
    "   \n",
    "  nloglike = 0\n",
    "  for (n in 1:N){\n",
    "    lprob = matrix(0,ncol = 1, nrow=K)\n",
    "    for (k in 1:K){\n",
    "      lprob[k,1] = sum(counts[,n] * log(model$mu[k,])) \n",
    "    }\n",
    "    nloglike = nloglike - logSum(lprob + log(model$rho))\n",
    "  }\n",
    "  \n",
    "  return (nloglike)\n",
    "}"
   ]
  },
  {
   "cell_type": "code",
   "execution_count": 5,
   "metadata": {},
   "outputs": [],
   "source": [
    "E_step_func <- function(gamma, model, counts){\n",
    "    N = dim(counts)[2] # N documents\n",
    "    K = dim(model$mu)[1] # K clusters\n",
    "    # E step:    \n",
    "    for (n in 1:N){\n",
    "        for (k in 1:K){\n",
    "          ## calculate the posterior based on the estimated mu and rho in the \"log space\"\n",
    "          gamma[n,k] = log(model$rho[k,1]) +  sum(counts[,n] * log(model$mu[k,])) \n",
    "        }\n",
    "        # normalisation to sum to 1 in the log space\n",
    "        logZ = logSum(gamma[n,])\n",
    "        gamma[n,] = gamma[n,] - logZ\n",
    "    }\n",
    "    # converting back from the log space \n",
    "    gamma = exp(gamma)\n",
    "    return (gamma)\n",
    "}"
   ]
  },
  {
   "cell_type": "code",
   "execution_count": 6,
   "metadata": {},
   "outputs": [],
   "source": [
    "M_step_func <- function(gamma, model, counts) {\n",
    "    N = dim(counts)[2]   # N documents\n",
    "    W = dim(counts)[1]   # W words\n",
    "    K = dim(model$mu)[1] # K clusters\n",
    "    \n",
    "    # normalize gamma\n",
    "    gamma = prop.table(gamma + 0.000001, 1)\n",
    "    for (k in 1:K){\n",
    "        # update rho: cluster probabilities\n",
    "        model$rho[k] <- sum(gamma[,k])/N\n",
    "        # update mu parameter for each word in cluster\n",
    "        model$mu[k,] = rowSums(gamma[, k] * counts) / sum(rowSums(gamma[, k] * counts))\n",
    "    }\n",
    "    # Return the result\n",
    "    return (model)\n",
    "}"
   ]
  },
  {
   "cell_type": "code",
   "execution_count": 7,
   "metadata": {},
   "outputs": [],
   "source": [
    "EM_func <- function(counts, K=4, max.epoch=100, seed=123456, hard=FALSE) {\n",
    "    N = dim(counts)[2] # number of documents\n",
    "    W = dim(counts)[1] # number of unique words (in all documents)\n",
    "    \n",
    "    # Initialization\n",
    "    model = initialize_func(W, K=K, seed=seed)\n",
    "    gamma = matrix(0, nrow = N, ncol = K)\n",
    "    \n",
    "    if (hard == TRUE) {\n",
    "        # Do hard label assignment\n",
    "        max.prob = gamma == apply(gamma, 1, max)\n",
    "        gamma[max.prob] <- 1 # assign each point to the cluster with the highest probability\n",
    "        gamma[!max.prob] <- 0 \n",
    "    }\n",
    "    \n",
    "    print(train_obj(model,counts))\n",
    "    \n",
    "    # Start train the model\n",
    "    for(epoch in 1:max.epoch){\n",
    "        # E Step\n",
    "        gamma = E_step_func(gamma, model, counts)\n",
    "        # M Step\n",
    "        model = M_step_func(gamma, model, counts)\n",
    "        print(train_obj(model,counts)) \n",
    "    }\n",
    "    # Return Model\n",
    "    return(list(\"model\"=model,\"gamma\"=gamma))\n",
    "}"
   ]
  },
  {
   "cell_type": "code",
   "execution_count": 8,
   "metadata": {},
   "outputs": [],
   "source": [
    "cluster_viz_func <- function(doc.word.mat, color.vector, title=' '){\n",
    "    p.comp = prcomp(doc.word.mat, scale. = TRUE, center = TRUE)\n",
    "    plot(p.comp$x, col=color.vector, pch=1,  main=title)\n",
    "}"
   ]
  },
  {
   "cell_type": "code",
   "execution_count": 9,
   "metadata": {},
   "outputs": [],
   "source": [
    "# helper function\n",
    "logSum <- function(v) {\n",
    "   m = max(v)\n",
    "   return ( m + log(sum(exp(v-m))))\n",
    "}"
   ]
  },
  {
   "cell_type": "code",
   "execution_count": 10,
   "metadata": {},
   "outputs": [],
   "source": [
    "# the training objective function\n",
    "train_obj <- function(model, counts) { \n",
    "  N = dim(counts)[2] # number of documents\n",
    "  K = dim(model$mu)[1]\n",
    "   \n",
    "  nloglike = 0\n",
    "  for (n in 1:N){\n",
    "    lprob <- matrix(0,ncol = 1, nrow=K)\n",
    "    for (k in 1:K){\n",
    "      lprob[k,1] = sum(counts[,n] * log(model$mu[k,])) \n",
    "    }\n",
    "    nloglike = nloglike - logSum(lprob + log(model$rho))\n",
    "  }\n",
    "  \n",
    "  return (nloglike)\n",
    "}"
   ]
  },
  {
   "cell_type": "markdown",
   "metadata": {},
   "source": [
    "3. Load Task2A.txt file and necessary libraries (if needed, perform text preprocessing similar to what we did in Activity 4.2), set the number of clusters K=4, and run both the soft-EM and hard-EM algorithms on the provided data."
   ]
  },
  {
   "cell_type": "code",
   "execution_count": 11,
   "metadata": {},
   "outputs": [],
   "source": [
    "readText <-  function(filename){\n",
    "    text = readLines(filename)\n",
    "    docs = strsplit(text, '\\t')\n",
    "    rm(text)\n",
    "    \n",
    "    labels =  unlist(lapply(docs, function(x) x[1]))\n",
    "    docs = data.frame(\"doc_id\"=1:length(docs), \"text\"=unlist(lapply(docs, function(x) x[2])))\n",
    "    docs = DataframeSource(docs)\n",
    "    docs = Corpus(docs)\n",
    "\n",
    "    # Preprocessing of the data:\n",
    "    docs = tm_map(docs, removeWords, stopwords(\"english\")) # remove stop words (the most common words in a language that can be found in any document)\n",
    "    docs = tm_map(docs, removePunctuation) # remove punctuations\n",
    "    docs = tm_map(docs, stemDocument) # perform stemming process by reducing inflected and derived words to their root form\n",
    "    docs = tm_map(docs, removeNumbers) # remove all numbers from the text\n",
    "    docs = tm_map(docs, stripWhitespace) # removing redundant spaces within the text \n",
    "\n",
    "    # Create a matrix which its rows are the documents and colomns are the words. \n",
    "    ## Each number in Document Term Matrix shows the frequency of a word (colomn header) in a particular document (row title)\n",
    "    tdm = TermDocumentMatrix(docs, control=list(\"weighting\"=function(x) weightTfIdf(x, normalize = FALSE)))\n",
    "\n",
    "    ## reduce the sparcity of out dtm\n",
    "    tdm = removeSparseTerms(tdm, 0.90)\n",
    "    return (list(\"tdm\"=tdm, \"labels\"=labels))\n",
    " \n",
    "}"
   ]
  },
  {
   "cell_type": "code",
   "execution_count": 12,
   "metadata": {},
   "outputs": [
    {
     "name": "stderr",
     "output_type": "stream",
     "text": [
      "Warning message in TermDocumentMatrix.SimpleCorpus(docs, control = list(weighting = function(x) weightTfIdf(x, :\n",
      "\"custom functions are ignored\"\n"
     ]
    }
   ],
   "source": [
    "# loading data\n",
    "data = readText(\"Dataset and Sample code/Task2A.txt\")\n",
    "counts = as.matrix(data$tdm)\n",
    "labels = data$labels"
   ]
  },
  {
   "cell_type": "code",
   "execution_count": 13,
   "metadata": {},
   "outputs": [
    {
     "data": {
      "image/png": "[encoded data removed]",
      "text/plain": [
       "Plot with title \"Original Clusters Plot\""
      ]
     },
     "metadata": {
      "image/png": {
       "height": 420,
       "width": 420
      }
     },
     "output_type": "display_data"
    }
   ],
   "source": [
    "# plotting of the original clusters\n",
    "labels_T = as.numeric(factor(labels))\n",
    "cluster_viz_func(t(counts), labels_T, 'Original Clusters Plot')"
   ]
  },
  {
   "cell_type": "code",
   "execution_count": 14,
   "metadata": {
    "scrolled": true
   },
   "outputs": [
    {
     "name": "stdout",
     "output_type": "stream",
     "text": [
      "[1] 1069185\n",
      "[1] 1030783\n",
      "[1] 1031617\n",
      "[1] 1031674\n",
      "[1] 1031926\n",
      "[1] 1031951\n",
      "[1] 1032135\n",
      "[1] 1032167\n",
      "[1] 1032025\n",
      "[1] 1032012\n",
      "[1] 1031959\n",
      "[1] 1032047\n",
      "[1] 1031955\n",
      "[1] 1032002\n",
      "[1] 1031705\n",
      "[1] 1031635\n",
      "[1] 1031448\n",
      "[1] 1031503\n",
      "[1] 1031396\n",
      "[1] 1032110\n",
      "[1] 1031499\n",
      "[1] 1031970\n",
      "[1] 1031317\n",
      "[1] 1031671\n",
      "[1] 1031538\n",
      "[1] 1032120\n",
      "[1] 1032058\n",
      "[1] 1031882\n",
      "[1] 1031581\n",
      "[1] 1031717\n",
      "[1] 1031345\n",
      "[1] 1031782\n",
      "[1] 1031961\n",
      "[1] 1031703\n",
      "[1] 1031807\n",
      "[1] 1031698\n",
      "[1] 1031570\n",
      "[1] 1031361\n",
      "[1] 1031227\n",
      "[1] 1031552\n",
      "[1] 1031468\n",
      "[1] 1031744\n",
      "[1] 1031933\n",
      "[1] 1031585\n",
      "[1] 1031657\n",
      "[1] 1031728\n",
      "[1] 1031715\n",
      "[1] 1031378\n",
      "[1] 1031994\n",
      "[1] 1031894\n",
      "[1] 1031931\n",
      "[1] 1031875\n",
      "[1] 1031800\n",
      "[1] 1031497\n",
      "[1] 1031789\n",
      "[1] 1032110\n",
      "[1] 1032078\n",
      "[1] 1032083\n",
      "[1] 1031905\n",
      "[1] 1032073\n",
      "[1] 1032030\n",
      "[1] 1031924\n",
      "[1] 1032034\n",
      "[1] 1031392\n",
      "[1] 1031734\n",
      "[1] 1031239\n",
      "[1] 1031739\n",
      "[1] 1031259\n",
      "[1] 1031286\n",
      "[1] 1031769\n",
      "[1] 1031681\n",
      "[1] 1031502\n",
      "[1] 1031358\n",
      "[1] 1031481\n",
      "[1] 1031275\n",
      "[1] 1031754\n",
      "[1] 1031201\n",
      "[1] 1031678\n",
      "[1] 1031782\n",
      "[1] 1031697\n",
      "[1] 1031883\n",
      "[1] 1031402\n",
      "[1] 1031632\n",
      "[1] 1031637\n",
      "[1] 1032061\n",
      "[1] 1031451\n",
      "[1] 1031530\n",
      "[1] 1031778\n",
      "[1] 1031456\n",
      "[1] 1031147\n",
      "[1] 1031283\n",
      "[1] 1031361\n",
      "[1] 1031491\n",
      "[1] 1031240\n",
      "[1] 1031613\n",
      "[1] 1031558\n",
      "[1] 1031432\n",
      "[1] 1031686\n",
      "[1] 1031585\n",
      "[1] 1031455\n",
      "[1] 1031430\n"
     ]
    }
   ],
   "source": [
    "# Hard clustering\n",
    "hard_cluster_results = EM_func(counts, hard=TRUE)"
   ]
  },
  {
   "cell_type": "code",
   "execution_count": 15,
   "metadata": {
    "scrolled": true
   },
   "outputs": [
    {
     "name": "stdout",
     "output_type": "stream",
     "text": [
      "[1] 1074755\n",
      "[1] 1030609\n",
      "[1] 1031041\n",
      "[1] 1031358\n",
      "[1] 1031631\n",
      "[1] 1031937\n",
      "[1] 1032015\n",
      "[1] 1031932\n",
      "[1] 1031681\n",
      "[1] 1031851\n",
      "[1] 1031946\n",
      "[1] 1032114\n",
      "[1] 1031871\n",
      "[1] 1031884\n",
      "[1] 1031929\n",
      "[1] 1031786\n",
      "[1] 1031781\n",
      "[1] 1031543\n",
      "[1] 1031515\n",
      "[1] 1031791\n",
      "[1] 1031755\n",
      "[1] 1031850\n",
      "[1] 1031994\n",
      "[1] 1031944\n",
      "[1] 1031697\n",
      "[1] 1032026\n",
      "[1] 1032029\n",
      "[1] 1031995\n",
      "[1] 1031995\n",
      "[1] 1031775\n",
      "[1] 1031993\n",
      "[1] 1032016\n",
      "[1] 1032008\n",
      "[1] 1032141\n",
      "[1] 1032135\n",
      "[1] 1031971\n",
      "[1] 1031937\n",
      "[1] 1031996\n",
      "[1] 1031960\n",
      "[1] 1031532\n",
      "[1] 1031582\n",
      "[1] 1031798\n",
      "[1] 1032166\n",
      "[1] 1031716\n",
      "[1] 1031934\n",
      "[1] 1031700\n",
      "[1] 1031536\n",
      "[1] 1031591\n",
      "[1] 1031824\n",
      "[1] 1031720\n",
      "[1] 1031984\n",
      "[1] 1031747\n",
      "[1] 1031935\n",
      "[1] 1031598\n",
      "[1] 1031935\n",
      "[1] 1031280\n",
      "[1] 1031684\n",
      "[1] 1031866\n",
      "[1] 1031701\n",
      "[1] 1031608\n",
      "[1] 1031539\n",
      "[1] 1030875\n",
      "[1] 1031899\n",
      "[1] 1031760\n",
      "[1] 1031886\n",
      "[1] 1031150\n",
      "[1] 1031842\n",
      "[1] 1031570\n",
      "[1] 1031941\n",
      "[1] 1031580\n",
      "[1] 1031656\n",
      "[1] 1031493\n",
      "[1] 1031699\n",
      "[1] 1031538\n",
      "[1] 1031495\n",
      "[1] 1031794\n",
      "[1] 1031493\n",
      "[1] 1031412\n",
      "[1] 1031601\n",
      "[1] 1031730\n",
      "[1] 1031708\n",
      "[1] 1031931\n",
      "[1] 1031627\n",
      "[1] 1032043\n",
      "[1] 1031532\n",
      "[1] 1031659\n",
      "[1] 1031459\n",
      "[1] 1031480\n",
      "[1] 1031329\n",
      "[1] 1031761\n",
      "[1] 1031444\n",
      "[1] 1031711\n",
      "[1] 1031967\n",
      "[1] 1031781\n",
      "[1] 1031724\n",
      "[1] 1031559\n",
      "[1] 1031804\n",
      "[1] 1031576\n",
      "[1] 1031609\n",
      "[1] 1031981\n",
      "[1] 1031975\n"
     ]
    }
   ],
   "source": [
    "# Soft clustering\n",
    "soft_cluster_results = EM_func(counts, hard=FALSE)"
   ]
  },
  {
   "cell_type": "markdown",
   "metadata": {},
   "source": [
    "4. Perform a PCA on the clusterings that you get based on the hard-EM and soft-EM in the same way we did in Activity 4.2. Then, visualize the obtained clusters with different colors where x and y axes are the first two principal components (similar to Activity 4.2). Attach the plots to your PDF report and report how and why the hard and soft-EM are different, based on your plots in the report."
   ]
  },
  {
   "cell_type": "code",
   "execution_count": 16,
   "metadata": {},
   "outputs": [
    {
     "data": {
      "image/png": "[encoded data removed]",
      "text/plain": [
       "Plot with title \"Estimated Hard cluster assignments\""
      ]
     },
     "metadata": {
      "image/png": {
       "height": 420,
       "width": 420
      }
     },
     "output_type": "display_data"
    }
   ],
   "source": [
    "# plotting the hard cluster assignments for each document\n",
    "label_hat = apply(hard_cluster_results$gamma, 1, which.max)\n",
    "cluster_viz_func(t(counts), label_hat, 'Estimated Hard cluster assignments')"
   ]
  },
  {
   "cell_type": "code",
   "execution_count": 17,
   "metadata": {},
   "outputs": [
    {
     "data": {
      "image/png": "[encoded data removed]",
      "text/plain": [
       "Plot with title \"Estimated Soft cluster assignments\""
      ]
     },
     "metadata": {
      "image/png": {
       "height": 420,
       "width": 420
      }
     },
     "output_type": "display_data"
    }
   ],
   "source": [
    "# plot soft cluster assignments for each document\n",
    "label_hat = apply(soft_cluster_results$gamma, 1, which.max)\n",
    "cluster_viz_func(t(counts), label_hat, 'Estimated Soft cluster assignments')"
   ]
  },
  {
   "cell_type": "code",
   "execution_count": null,
   "metadata": {},
   "outputs": [],
   "source": []
  }
 ],
 "metadata": {
  "kernelspec": {
   "display_name": "R",
   "language": "R",
   "name": "ir"
  },
  "language_info": {
   "codemirror_mode": "r",
   "file_extension": ".r",
   "mimetype": "text/x-r-source",
   "name": "R",
   "pygments_lexer": "r",
   "version": "4.0.1"
  }
 },
 "nbformat": 4,
 "nbformat_minor": 4
}
